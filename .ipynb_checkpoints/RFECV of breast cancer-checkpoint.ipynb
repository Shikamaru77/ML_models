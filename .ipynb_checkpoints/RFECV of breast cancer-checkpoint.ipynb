{
 "cells": [
  {
   "cell_type": "code",
   "execution_count": 1,
   "id": "e5ba23da",
   "metadata": {},
   "outputs": [
    {
     "name": "stdout",
     "output_type": "stream",
     "text": [
      "Optimal number of features:  14\n",
      "Selected features:  Index(['mean radius', 'mean texture', 'mean perimeter', 'mean area',\n",
      "       'mean concavity', 'mean concave points', 'area error', 'worst radius',\n",
      "       'worst texture', 'worst perimeter', 'worst area', 'worst compactness',\n",
      "       'worst concavity', 'worst concave points'],\n",
      "      dtype='object')\n"
     ]
    }
   ],
   "source": [
    "import pandas as pd\n",
    "from sklearn.datasets import load_breast_cancer\n",
    "from sklearn.feature_selection import RFECV\n",
    "from sklearn.model_selection import StratifiedKFold\n",
    "from sklearn.ensemble import RandomForestClassifier\n",
    "\n",
    "# Load the breast cancer dataset\n",
    "cancer = load_breast_cancer()\n",
    "\n",
    "# Create a DataFrame with the feature data\n",
    "df = pd.DataFrame(data=cancer['data'], columns=cancer['feature_names'])\n",
    "\n",
    "# Create the target variable 'target'\n",
    "df['target'] = cancer['target']\n",
    "\n",
    "# Separate the features and the target variable\n",
    "X = df.drop('target', axis=1)\n",
    "y = df['target']\n",
    "\n",
    "# Create a Random Forest Classifier\n",
    "rf_classifier = RandomForestClassifier()\n",
    "\n",
    "# Create a StratifiedKFold for cross-validation\n",
    "cv = StratifiedKFold(n_splits=5)\n",
    "\n",
    "# Initialize RFECV\n",
    "rfecv = RFECV(estimator=rf_classifier, cv=cv, scoring='accuracy')\n",
    "\n",
    "# Fit RFECV on the data\n",
    "rfecv.fit(X, y)\n",
    "\n",
    "# Print the optimal number of features\n",
    "print(\"Optimal number of features: \", rfecv.n_features_)\n",
    "\n",
    "# Print the selected features\n",
    "selected_features = X.columns[rfecv.support_]\n",
    "print(\"Selected features: \", selected_features)\n"
   ]
  },
  {
   "cell_type": "code",
   "execution_count": null,
   "id": "65dc542d",
   "metadata": {},
   "outputs": [],
   "source": []
  }
 ],
 "metadata": {
  "kernelspec": {
   "display_name": "Python 3 (ipykernel)",
   "language": "python",
   "name": "python3"
  },
  "language_info": {
   "codemirror_mode": {
    "name": "ipython",
    "version": 3
   },
   "file_extension": ".py",
   "mimetype": "text/x-python",
   "name": "python",
   "nbconvert_exporter": "python",
   "pygments_lexer": "ipython3",
   "version": "3.9.12"
  }
 },
 "nbformat": 4,
 "nbformat_minor": 5
}
