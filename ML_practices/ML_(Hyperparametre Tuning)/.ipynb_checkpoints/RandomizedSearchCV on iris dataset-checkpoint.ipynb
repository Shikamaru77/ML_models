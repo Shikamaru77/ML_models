{
 "cells": [
  {
   "cell_type": "code",
   "execution_count": 1,
   "id": "751d8ff2",
   "metadata": {},
   "outputs": [
    {
     "name": "stdout",
     "output_type": "stream",
     "text": [
      "Best Hyperparameters: {'bootstrap': True, 'max_depth': 9, 'min_samples_leaf': 7, 'min_samples_split': 3, 'n_estimators': 13}\n",
      "Best Score: 0.9600000000000002\n"
     ]
    }
   ],
   "source": [
    "from sklearn.datasets import load_iris\n",
    "from sklearn.ensemble import RandomForestClassifier\n",
    "from sklearn.model_selection import RandomizedSearchCV\n",
    "from scipy.stats import randint\n",
    "\n",
    "# Load the Iris dataset\n",
    "iris = load_iris()\n",
    "X = iris.data\n",
    "y = iris.target\n",
    "\n",
    "# Create a Random Forest classifier\n",
    "rf_classifier = RandomForestClassifier()\n",
    "\n",
    "# Define hyperparameter space for RandomizedSearchCV\n",
    "param_dist = {\n",
    "    'n_estimators': randint(10, 100),\n",
    "    'max_depth': randint(1, 10),\n",
    "    'min_samples_split': randint(2, 11),\n",
    "    'min_samples_leaf': randint(1, 11),\n",
    "    'bootstrap': [True, False]\n",
    "}\n",
    "\n",
    "# Create RandomizedSearchCV object\n",
    "random_search = RandomizedSearchCV(\n",
    "    estimator=rf_classifier,\n",
    "    param_distributions=param_dist,\n",
    "    n_iter=10,  # Number of random combinations to try\n",
    "    cv=5,  # Number of cross-validation folds\n",
    "    scoring='accuracy',  # Scoring metric\n",
    "    random_state=42  # Random seed for reproducibility\n",
    ")\n",
    "\n",
    "# Fit the RandomizedSearchCV object to the data\n",
    "random_search.fit(X, y)\n",
    "\n",
    "# Print the best hyperparameters and the corresponding cross-validation score\n",
    "print(\"Best Hyperparameters:\", random_search.best_params_)\n",
    "print(\"Best Score:\", random_search.best_score_)\n"
   ]
  },
  {
   "cell_type": "markdown",
   "id": "e00a274c",
   "metadata": {},
   "source": [
    "The best hyperparameters found by the RandomizedSearchCV are as follows:\n",
    "\n",
    "1. **'bootstrap': True** - This hyperparameter determines whether bootstrap samples are used when building trees. When set to True, bootstrap samples are used, and when set to False, the entire dataset is used to build each tree.\n",
    "\n",
    "2. **'max_depth': 9** - This hyperparameter controls the maximum depth of the trees in the random forest. A higher value allows the trees to be more complex, which can result in overfitting if not carefully tuned.\n",
    "\n",
    "3. **'min_samples_leaf': 7** - This hyperparameter sets the minimum number of samples required to be at a leaf node. A higher value can prevent the model from being too sensitive to noise and result in a more generalized model.\n",
    "\n",
    "4. **'min_samples_split': 3** - This hyperparameter sets the minimum number of samples required to split an internal node. A higher value can also help prevent overfitting.\n",
    "\n",
    "5. **'n_estimators': 13** - This hyperparameter determines the number of trees in the random forest. A higher number of estimators can improve the performance of the model, but it also increases the computation time.\n",
    "\n",
    "The RandomizedSearchCV randomly sampled different combinations of these hyperparameters and evaluated their performance using cross-validation. The combination with the highest cross-validation score (accuracy in this case) was selected as the best set of hyperparameters for the Random Forest classifier.**"
   ]
  },
  {
   "cell_type": "code",
   "execution_count": null,
   "id": "3fdd9ae9",
   "metadata": {},
   "outputs": [],
   "source": []
  }
 ],
 "metadata": {
  "kernelspec": {
   "display_name": "Python 3 (ipykernel)",
   "language": "python",
   "name": "python3"
  },
  "language_info": {
   "codemirror_mode": {
    "name": "ipython",
    "version": 3
   },
   "file_extension": ".py",
   "mimetype": "text/x-python",
   "name": "python",
   "nbconvert_exporter": "python",
   "pygments_lexer": "ipython3",
   "version": "3.9.12"
  }
 },
 "nbformat": 4,
 "nbformat_minor": 5
}
