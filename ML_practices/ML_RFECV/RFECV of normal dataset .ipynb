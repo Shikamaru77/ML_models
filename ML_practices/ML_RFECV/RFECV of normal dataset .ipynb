{
 "cells": [
  {
   "cell_type": "code",
   "execution_count": 1,
   "id": "c5357cb2",
   "metadata": {},
   "outputs": [],
   "source": [
    "import pandas as pd\n",
    "from sklearn.datasets import make_classification\n",
    "from sklearn.linear_model import LogisticRegression\n",
    "from sklearn.feature_selection import RFECV\n",
    "from sklearn.model_selection import StratifiedKFold"
   ]
  },
  {
   "cell_type": "code",
   "execution_count": 4,
   "id": "37d52965",
   "metadata": {},
   "outputs": [],
   "source": [
    "#generating synthetic data\n",
    "X,y = make_classification(n_samples = 77, n_features = 7, random_state = 25)"
   ]
  },
  {
   "cell_type": "code",
   "execution_count": 7,
   "id": "7c27a848",
   "metadata": {},
   "outputs": [],
   "source": [
    "#converting into dataframe\n",
    "df = pd.DataFrame(X, columns = (f'Features-{i}' for i in range(1,8)))\n",
    "df['target'] = y"
   ]
  },
  {
   "cell_type": "code",
   "execution_count": 8,
   "id": "829bb10f",
   "metadata": {},
   "outputs": [
    {
     "data": {
      "text/html": [
       "<div>\n",
       "<style scoped>\n",
       "    .dataframe tbody tr th:only-of-type {\n",
       "        vertical-align: middle;\n",
       "    }\n",
       "\n",
       "    .dataframe tbody tr th {\n",
       "        vertical-align: top;\n",
       "    }\n",
       "\n",
       "    .dataframe thead th {\n",
       "        text-align: right;\n",
       "    }\n",
       "</style>\n",
       "<table border=\"1\" class=\"dataframe\">\n",
       "  <thead>\n",
       "    <tr style=\"text-align: right;\">\n",
       "      <th></th>\n",
       "      <th>Features-1</th>\n",
       "      <th>Features-2</th>\n",
       "      <th>Features-3</th>\n",
       "      <th>Features-4</th>\n",
       "      <th>Features-5</th>\n",
       "      <th>Features-6</th>\n",
       "      <th>Features-7</th>\n",
       "      <th>target</th>\n",
       "    </tr>\n",
       "  </thead>\n",
       "  <tbody>\n",
       "    <tr>\n",
       "      <th>0</th>\n",
       "      <td>0.085375</td>\n",
       "      <td>2.496847</td>\n",
       "      <td>-0.819871</td>\n",
       "      <td>1.112560</td>\n",
       "      <td>0.351654</td>\n",
       "      <td>-0.069046</td>\n",
       "      <td>0.274054</td>\n",
       "      <td>0</td>\n",
       "    </tr>\n",
       "    <tr>\n",
       "      <th>1</th>\n",
       "      <td>0.456882</td>\n",
       "      <td>-1.858677</td>\n",
       "      <td>1.450662</td>\n",
       "      <td>-0.968215</td>\n",
       "      <td>-1.196866</td>\n",
       "      <td>0.135802</td>\n",
       "      <td>-0.443365</td>\n",
       "      <td>1</td>\n",
       "    </tr>\n",
       "    <tr>\n",
       "      <th>2</th>\n",
       "      <td>-1.367066</td>\n",
       "      <td>0.650740</td>\n",
       "      <td>1.270426</td>\n",
       "      <td>-0.205659</td>\n",
       "      <td>-1.248747</td>\n",
       "      <td>0.123688</td>\n",
       "      <td>-0.373780</td>\n",
       "      <td>1</td>\n",
       "    </tr>\n",
       "    <tr>\n",
       "      <th>3</th>\n",
       "      <td>-0.100554</td>\n",
       "      <td>0.947936</td>\n",
       "      <td>1.112836</td>\n",
       "      <td>0.067164</td>\n",
       "      <td>1.206853</td>\n",
       "      <td>0.053761</td>\n",
       "      <td>-0.493728</td>\n",
       "      <td>1</td>\n",
       "    </tr>\n",
       "    <tr>\n",
       "      <th>4</th>\n",
       "      <td>0.085383</td>\n",
       "      <td>0.579486</td>\n",
       "      <td>0.929333</td>\n",
       "      <td>1.301523</td>\n",
       "      <td>-1.110476</td>\n",
       "      <td>0.095153</td>\n",
       "      <td>-0.259184</td>\n",
       "      <td>1</td>\n",
       "    </tr>\n",
       "  </tbody>\n",
       "</table>\n",
       "</div>"
      ],
      "text/plain": [
       "   Features-1  Features-2  Features-3  Features-4  Features-5  Features-6  \\\n",
       "0    0.085375    2.496847   -0.819871    1.112560    0.351654   -0.069046   \n",
       "1    0.456882   -1.858677    1.450662   -0.968215   -1.196866    0.135802   \n",
       "2   -1.367066    0.650740    1.270426   -0.205659   -1.248747    0.123688   \n",
       "3   -0.100554    0.947936    1.112836    0.067164    1.206853    0.053761   \n",
       "4    0.085383    0.579486    0.929333    1.301523   -1.110476    0.095153   \n",
       "\n",
       "   Features-7  target  \n",
       "0    0.274054       0  \n",
       "1   -0.443365       1  \n",
       "2   -0.373780       1  \n",
       "3   -0.493728       1  \n",
       "4   -0.259184       1  "
      ]
     },
     "execution_count": 8,
     "metadata": {},
     "output_type": "execute_result"
    }
   ],
   "source": [
    "df.head()"
   ]
  },
  {
   "cell_type": "code",
   "execution_count": 13,
   "id": "04cd6151",
   "metadata": {},
   "outputs": [],
   "source": [
    "#splitting data into features n target\n",
    "X_train = df.drop(columns = 'target')\n",
    "y_train = df['target']"
   ]
  },
  {
   "cell_type": "code",
   "execution_count": 14,
   "id": "32ee8698",
   "metadata": {},
   "outputs": [],
   "source": [
    "#Logistic model for our RFECV\n",
    "model = LogisticRegression()"
   ]
  },
  {
   "cell_type": "code",
   "execution_count": 15,
   "id": "eb49b158",
   "metadata": {},
   "outputs": [],
   "source": [
    "#CV generating\n",
    "cv = StratifiedKFold()"
   ]
  },
  {
   "cell_type": "code",
   "execution_count": 16,
   "id": "4f5b559b",
   "metadata": {},
   "outputs": [],
   "source": [
    "#main part -RFECV\n",
    "rfecv = RFECV(estimator = model, cv= cv)\n",
    "X_train_RFECV = rfecv.fit_transform(X_train, y_train)"
   ]
  },
  {
   "cell_type": "code",
   "execution_count": 19,
   "id": "2e467afb",
   "metadata": {},
   "outputs": [],
   "source": [
    "#names oof the selected features for our target based relationship\n",
    "selected = X_train.columns[rfecv.support_]\n"
   ]
  },
  {
   "cell_type": "code",
   "execution_count": 24,
   "id": "312974bb",
   "metadata": {},
   "outputs": [
    {
     "name": "stdout",
     "output_type": "stream",
     "text": [
      "optimal no of features : 1\n",
      " and Selected Features are: Index(['Features-3'], dtype='object')\n",
      "\n"
     ]
    }
   ],
   "source": [
    "print(f'optimal no of features : {rfecv.n_features_}\\n and Selected Features are: {selected}\\n')"
   ]
  },
  {
   "cell_type": "code",
   "execution_count": null,
   "id": "cce4e834",
   "metadata": {},
   "outputs": [],
   "source": []
  }
 ],
 "metadata": {
  "kernelspec": {
   "display_name": "Python 3 (ipykernel)",
   "language": "python",
   "name": "python3"
  },
  "language_info": {
   "codemirror_mode": {
    "name": "ipython",
    "version": 3
   },
   "file_extension": ".py",
   "mimetype": "text/x-python",
   "name": "python",
   "nbconvert_exporter": "python",
   "pygments_lexer": "ipython3",
   "version": "3.9.12"
  }
 },
 "nbformat": 4,
 "nbformat_minor": 5
}
